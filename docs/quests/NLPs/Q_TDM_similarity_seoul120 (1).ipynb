{
 "cells": [
  {
   "cell_type": "markdown",
   "id": "364d2248-99fe-4c4f-bd57-5d4fb47ccdf5",
   "metadata": {},
   "source": [
    "# quests\n",
    "- dataset \n",
    "- 120 민원 내용에서 유사한 신고 내용 찾기"
   ]
  },
  {
   "cell_type": "markdown",
   "id": "7fbff0b6-219c-4804-b244-6ae805654110",
   "metadata": {},
   "source": [
    "## 자연어 처리"
   ]
  },
  {
   "cell_type": "markdown",
   "id": "bef8fa47-9f48-4ce0-9285-ed4e685f9cbd",
   "metadata": {},
   "source": [
    "## 자료 입력"
   ]
  },
  {
   "cell_type": "code",
   "execution_count": 1,
   "id": "662ed256-5f95-4ec8-a613-2ddce79a1b86",
   "metadata": {},
   "outputs": [
    {
     "data": {
      "text/html": [
       "<div>\n",
       "<style scoped>\n",
       "    .dataframe tbody tr th:only-of-type {\n",
       "        vertical-align: middle;\n",
       "    }\n",
       "\n",
       "    .dataframe tbody tr th {\n",
       "        vertical-align: top;\n",
       "    }\n",
       "\n",
       "    .dataframe thead th {\n",
       "        text-align: right;\n",
       "    }\n",
       "</style>\n",
       "<table border=\"1\" class=\"dataframe\">\n",
       "  <thead>\n",
       "    <tr style=\"text-align: right;\">\n",
       "      <th></th>\n",
       "      <th>번호</th>\n",
       "      <th>분류</th>\n",
       "      <th>제목</th>\n",
       "      <th>내용</th>\n",
       "      <th>내용번호</th>\n",
       "    </tr>\n",
       "  </thead>\n",
       "  <tbody>\n",
       "    <tr>\n",
       "      <th>0</th>\n",
       "      <td>2645</td>\n",
       "      <td>복지</td>\n",
       "      <td>아빠 육아휴직 장려금</td>\n",
       "      <td>아빠 육아휴직 장려금   업무개요  남성근로자의 육아휴직을 장려하고 양육에 따른 경...</td>\n",
       "      <td>23522464</td>\n",
       "    </tr>\n",
       "    <tr>\n",
       "      <th>1</th>\n",
       "      <td>2644</td>\n",
       "      <td>경제</td>\n",
       "      <td>[서울산업진흥원] 서울메이드란?</td>\n",
       "      <td>서울산업진흥원 서울메이드란 서울의 감성을 담은 다양하고 새로운 경험을 제공하기 위해...</td>\n",
       "      <td>23194045</td>\n",
       "    </tr>\n",
       "    <tr>\n",
       "      <th>2</th>\n",
       "      <td>2643</td>\n",
       "      <td>환경</td>\n",
       "      <td>(강북구) 정비중</td>\n",
       "      <td>강북구 정비중  업무개요  투명 폐트병을 교환보상하므로 수거율을 높이고 폐기물을 감...</td>\n",
       "      <td>23032485</td>\n",
       "    </tr>\n",
       "    <tr>\n",
       "      <th>3</th>\n",
       "      <td>2642</td>\n",
       "      <td>복지</td>\n",
       "      <td>광진맘택시 운영(임산부,영아 양육가정 전용 택시)</td>\n",
       "      <td>광진맘택시 운영임산부영아 양육가정 전용 택시  업무개요 교통약자인 임산부와 영아가정...</td>\n",
       "      <td>22904492</td>\n",
       "    </tr>\n",
       "    <tr>\n",
       "      <th>4</th>\n",
       "      <td>2641</td>\n",
       "      <td>복지</td>\n",
       "      <td>마포 뇌병변장애인 비전센터</td>\n",
       "      <td>마포 뇌병변장애인 비전센터 마포뇌병변장애인 비전센터 운영   구분 내용  목적  학...</td>\n",
       "      <td>22477798</td>\n",
       "    </tr>\n",
       "    <tr>\n",
       "      <th>...</th>\n",
       "      <td>...</td>\n",
       "      <td>...</td>\n",
       "      <td>...</td>\n",
       "      <td>...</td>\n",
       "      <td>...</td>\n",
       "    </tr>\n",
       "    <tr>\n",
       "      <th>2640</th>\n",
       "      <td>5</td>\n",
       "      <td>주택도시계획</td>\n",
       "      <td>이미 지정된 재정비촉진지구의 인접지를 추가 확장하고 싶은데 어떻게 해야 하나요?</td>\n",
       "      <td>이미 지정된 재정비촉진지구의 인접지를 추가 확장하고 싶은데 어떻게 해야 하나요 관할...</td>\n",
       "      <td>2894353</td>\n",
       "    </tr>\n",
       "    <tr>\n",
       "      <th>2641</th>\n",
       "      <td>4</td>\n",
       "      <td>환경</td>\n",
       "      <td>수돗물의 톤당 원가는?</td>\n",
       "      <td>수돗물의 톤당 원가는우리시 년 톤당 원가는 원 입니다 우리시 년 톤당 요금은 원 입니다</td>\n",
       "      <td>19353862</td>\n",
       "    </tr>\n",
       "    <tr>\n",
       "      <th>2642</th>\n",
       "      <td>3</td>\n",
       "      <td>복지</td>\n",
       "      <td>출산휴가후 집근처에 안심하고 맡길 수 있는 어린이집이 있는지?</td>\n",
       "      <td>출산휴가후 집근처에 안심하고 맡길 수 있는 어린이집이 있는지   서울시 육아종합지원...</td>\n",
       "      <td>19699584</td>\n",
       "    </tr>\n",
       "    <tr>\n",
       "      <th>2643</th>\n",
       "      <td>2</td>\n",
       "      <td>교통</td>\n",
       "      <td>자동차검사장을 지정받고자 하는데 어떻게 해야 하나요?</td>\n",
       "      <td>자동차검사장을 지정받고자 하는데 어떻게 해야 하나요  자동차종합정비업체 소형자동차정...</td>\n",
       "      <td>2898293</td>\n",
       "    </tr>\n",
       "    <tr>\n",
       "      <th>2644</th>\n",
       "      <td>1</td>\n",
       "      <td>환경</td>\n",
       "      <td>폐기대상 문서의 폐기는 어떻게 하나요?</td>\n",
       "      <td>폐기대상 문서의 폐기는 어떻게 하나요보존기간이 경과된 문서의 폐기는 정보공개정책과로...</td>\n",
       "      <td>19431143</td>\n",
       "    </tr>\n",
       "  </tbody>\n",
       "</table>\n",
       "<p>2645 rows × 5 columns</p>\n",
       "</div>"
      ],
      "text/plain": [
       "        번호      분류                                            제목  \\\n",
       "0     2645      복지                                   아빠 육아휴직 장려금   \n",
       "1     2644      경제                             [서울산업진흥원] 서울메이드란?   \n",
       "2     2643      환경                                     (강북구) 정비중   \n",
       "3     2642      복지                   광진맘택시 운영(임산부,영아 양육가정 전용 택시)   \n",
       "4     2641      복지                                마포 뇌병변장애인 비전센터   \n",
       "...    ...     ...                                           ...   \n",
       "2640     5  주택도시계획  이미 지정된 재정비촉진지구의 인접지를 추가 확장하고 싶은데 어떻게 해야 하나요?   \n",
       "2641     4      환경                                  수돗물의 톤당 원가는?   \n",
       "2642     3      복지            출산휴가후 집근처에 안심하고 맡길 수 있는 어린이집이 있는지?   \n",
       "2643     2      교통                 자동차검사장을 지정받고자 하는데 어떻게 해야 하나요?   \n",
       "2644     1      환경                         폐기대상 문서의 폐기는 어떻게 하나요?   \n",
       "\n",
       "                                                     내용      내용번호  \n",
       "0     아빠 육아휴직 장려금   업무개요  남성근로자의 육아휴직을 장려하고 양육에 따른 경...  23522464  \n",
       "1     서울산업진흥원 서울메이드란 서울의 감성을 담은 다양하고 새로운 경험을 제공하기 위해...  23194045  \n",
       "2     강북구 정비중  업무개요  투명 폐트병을 교환보상하므로 수거율을 높이고 폐기물을 감...  23032485  \n",
       "3     광진맘택시 운영임산부영아 양육가정 전용 택시  업무개요 교통약자인 임산부와 영아가정...  22904492  \n",
       "4     마포 뇌병변장애인 비전센터 마포뇌병변장애인 비전센터 운영   구분 내용  목적  학...  22477798  \n",
       "...                                                 ...       ...  \n",
       "2640  이미 지정된 재정비촉진지구의 인접지를 추가 확장하고 싶은데 어떻게 해야 하나요 관할...   2894353  \n",
       "2641  수돗물의 톤당 원가는우리시 년 톤당 원가는 원 입니다 우리시 년 톤당 요금은 원 입니다   19353862  \n",
       "2642  출산휴가후 집근처에 안심하고 맡길 수 있는 어린이집이 있는지   서울시 육아종합지원...  19699584  \n",
       "2643  자동차검사장을 지정받고자 하는데 어떻게 해야 하나요  자동차종합정비업체 소형자동차정...   2898293  \n",
       "2644  폐기대상 문서의 폐기는 어떻게 하나요보존기간이 경과된 문서의 폐기는 정보공개정책과로...  19431143  \n",
       "\n",
       "[2645 rows x 5 columns]"
      ]
     },
     "execution_count": 1,
     "metadata": {},
     "output_type": "execute_result"
    }
   ],
   "source": [
    "import pandas as pd\n",
    "TDM_s120 = pd.read_csv(\"https://bit.ly/seoul-120-text-csv\")\n",
    "TDM_s120"
   ]
  },
  {
   "cell_type": "code",
   "execution_count": 2,
   "id": "c9775f76-1d75-474c-8316-54733fca4069",
   "metadata": {},
   "outputs": [],
   "source": [
    "stopwords = []"
   ]
  },
  {
   "cell_type": "code",
   "execution_count": 3,
   "id": "21a508b0-f8cb-49f1-aa39-3ea200273263",
   "metadata": {},
   "outputs": [],
   "source": [
    "# 토크나이징 함수 정의\n",
    "from konlpy.tag import Okt\n",
    "okt = Okt()\n",
    "\n",
    "def tokenizer(raw, pos=[\"Noun\",\"Alpha\",\"Verb\",\"Number\"], stopword=stopwords):\n",
    "    return [\n",
    "        word for word, tag in okt.pos(\n",
    "            raw, \n",
    "            stem=True    # stemming 바뀌나->바뀌다\n",
    "            )\n",
    "            if len(word) > 1 and tag in pos and word not in stopword\n",
    "\n",
    "    ]"
   ]
  },
  {
   "cell_type": "code",
   "execution_count": 4,
   "id": "66d6a805-953d-481c-a6a9-019293d383b0",
   "metadata": {},
   "outputs": [],
   "source": [
    "# tokenizing\n",
    "from sklearn.feature_extraction.text import TfidfVectorizer\n",
    "tfidfvectorizer = TfidfVectorizer(tokenizer=tokenizer)"
   ]
  },
  {
   "cell_type": "code",
   "execution_count": 5,
   "id": "97a17271-3bc8-4a68-826a-b05ab3525f29",
   "metadata": {},
   "outputs": [
    {
     "name": "stderr",
     "output_type": "stream",
     "text": [
      "/usr/local/lib/python3.11/site-packages/sklearn/feature_extraction/text.py:525: UserWarning: The parameter 'token_pattern' will not be used since 'tokenizer' is not None'\n",
      "  warnings.warn(\n"
     ]
    },
    {
     "data": {
      "text/plain": [
       "array([[0., 0., 0., ..., 0., 0., 0.],\n",
       "       [0., 0., 0., ..., 0., 0., 0.]])"
      ]
     },
     "execution_count": 5,
     "metadata": {},
     "output_type": "execute_result"
    }
   ],
   "source": [
    "features = tfidfvectorizer.fit_transform(TDM_s120['내용'])\n",
    "features.toarray()[:2]"
   ]
  },
  {
   "cell_type": "markdown",
   "id": "cf2ffc98-6ed3-4a62-a0bd-25d2c8246026",
   "metadata": {},
   "source": [
    "## 유사도 확인"
   ]
  },
  {
   "cell_type": "code",
   "execution_count": 6,
   "id": "4640aa23-cc53-4209-9f57-837755a87cd9",
   "metadata": {},
   "outputs": [],
   "source": [
    "from sklearn.metrics.pairwise import cosine_similarity"
   ]
  },
  {
   "cell_type": "code",
   "execution_count": 7,
   "id": "0a848ad4-edce-49ae-92cc-9843dd35fe18",
   "metadata": {},
   "outputs": [
    {
     "data": {
      "text/plain": [
       "1"
      ]
     },
     "execution_count": 7,
     "metadata": {},
     "output_type": "execute_result"
    }
   ],
   "source": [
    "result_list = cosine_similarity(features.toarray()[1772:1773], features.toarray())\n",
    "len(result_list)"
   ]
  },
  {
   "cell_type": "code",
   "execution_count": 8,
   "id": "7bab0516-0f80-4350-80bc-c70b29947ea0",
   "metadata": {},
   "outputs": [
    {
     "data": {
      "text/plain": [
       "873"
      ]
     },
     "execution_count": 8,
     "metadata": {},
     "output_type": "execute_result"
    }
   ],
   "source": [
    "# 인덱스 번호 확인\n",
    "TDM_s120.query('번호==1772').index[0]"
   ]
  },
  {
   "cell_type": "code",
   "execution_count": 9,
   "id": "c6f93230-0518-4743-bc7c-51709f774e10",
   "metadata": {},
   "outputs": [],
   "source": [
    "# 컬럼 추가\n",
    "TDM_s120['유사도'] = result_list[0]"
   ]
  },
  {
   "cell_type": "code",
   "execution_count": 10,
   "id": "097e6288-b8f4-4d45-802e-de947fd1b0c9",
   "metadata": {},
   "outputs": [
    {
     "data": {
      "text/html": [
       "<div>\n",
       "<style scoped>\n",
       "    .dataframe tbody tr th:only-of-type {\n",
       "        vertical-align: middle;\n",
       "    }\n",
       "\n",
       "    .dataframe tbody tr th {\n",
       "        vertical-align: top;\n",
       "    }\n",
       "\n",
       "    .dataframe thead th {\n",
       "        text-align: right;\n",
       "    }\n",
       "</style>\n",
       "<table border=\"1\" class=\"dataframe\">\n",
       "  <thead>\n",
       "    <tr style=\"text-align: right;\">\n",
       "      <th></th>\n",
       "      <th>번호</th>\n",
       "      <th>분류</th>\n",
       "      <th>제목</th>\n",
       "      <th>내용</th>\n",
       "      <th>내용번호</th>\n",
       "      <th>유사도</th>\n",
       "    </tr>\n",
       "  </thead>\n",
       "  <tbody>\n",
       "    <tr>\n",
       "      <th>0</th>\n",
       "      <td>2645</td>\n",
       "      <td>복지</td>\n",
       "      <td>아빠 육아휴직 장려금</td>\n",
       "      <td>아빠 육아휴직 장려금   업무개요  남성근로자의 육아휴직을 장려하고 양육에 따른 경...</td>\n",
       "      <td>23522464</td>\n",
       "      <td>0.066423</td>\n",
       "    </tr>\n",
       "    <tr>\n",
       "      <th>1</th>\n",
       "      <td>2644</td>\n",
       "      <td>경제</td>\n",
       "      <td>[서울산업진흥원] 서울메이드란?</td>\n",
       "      <td>서울산업진흥원 서울메이드란 서울의 감성을 담은 다양하고 새로운 경험을 제공하기 위해...</td>\n",
       "      <td>23194045</td>\n",
       "      <td>0.001227</td>\n",
       "    </tr>\n",
       "    <tr>\n",
       "      <th>2</th>\n",
       "      <td>2643</td>\n",
       "      <td>환경</td>\n",
       "      <td>(강북구) 정비중</td>\n",
       "      <td>강북구 정비중  업무개요  투명 폐트병을 교환보상하므로 수거율을 높이고 폐기물을 감...</td>\n",
       "      <td>23032485</td>\n",
       "      <td>0.004907</td>\n",
       "    </tr>\n",
       "    <tr>\n",
       "      <th>3</th>\n",
       "      <td>2642</td>\n",
       "      <td>복지</td>\n",
       "      <td>광진맘택시 운영(임산부,영아 양육가정 전용 택시)</td>\n",
       "      <td>광진맘택시 운영임산부영아 양육가정 전용 택시  업무개요 교통약자인 임산부와 영아가정...</td>\n",
       "      <td>22904492</td>\n",
       "      <td>0.029660</td>\n",
       "    </tr>\n",
       "    <tr>\n",
       "      <th>4</th>\n",
       "      <td>2641</td>\n",
       "      <td>복지</td>\n",
       "      <td>마포 뇌병변장애인 비전센터</td>\n",
       "      <td>마포 뇌병변장애인 비전센터 마포뇌병변장애인 비전센터 운영   구분 내용  목적  학...</td>\n",
       "      <td>22477798</td>\n",
       "      <td>0.015529</td>\n",
       "    </tr>\n",
       "    <tr>\n",
       "      <th>...</th>\n",
       "      <td>...</td>\n",
       "      <td>...</td>\n",
       "      <td>...</td>\n",
       "      <td>...</td>\n",
       "      <td>...</td>\n",
       "      <td>...</td>\n",
       "    </tr>\n",
       "    <tr>\n",
       "      <th>2640</th>\n",
       "      <td>5</td>\n",
       "      <td>주택도시계획</td>\n",
       "      <td>이미 지정된 재정비촉진지구의 인접지를 추가 확장하고 싶은데 어떻게 해야 하나요?</td>\n",
       "      <td>이미 지정된 재정비촉진지구의 인접지를 추가 확장하고 싶은데 어떻게 해야 하나요 관할...</td>\n",
       "      <td>2894353</td>\n",
       "      <td>0.030988</td>\n",
       "    </tr>\n",
       "    <tr>\n",
       "      <th>2641</th>\n",
       "      <td>4</td>\n",
       "      <td>환경</td>\n",
       "      <td>수돗물의 톤당 원가는?</td>\n",
       "      <td>수돗물의 톤당 원가는우리시 년 톤당 원가는 원 입니다 우리시 년 톤당 요금은 원 입니다</td>\n",
       "      <td>19353862</td>\n",
       "      <td>0.000000</td>\n",
       "    </tr>\n",
       "    <tr>\n",
       "      <th>2642</th>\n",
       "      <td>3</td>\n",
       "      <td>복지</td>\n",
       "      <td>출산휴가후 집근처에 안심하고 맡길 수 있는 어린이집이 있는지?</td>\n",
       "      <td>출산휴가후 집근처에 안심하고 맡길 수 있는 어린이집이 있는지   서울시 육아종합지원...</td>\n",
       "      <td>19699584</td>\n",
       "      <td>0.010857</td>\n",
       "    </tr>\n",
       "    <tr>\n",
       "      <th>2643</th>\n",
       "      <td>2</td>\n",
       "      <td>교통</td>\n",
       "      <td>자동차검사장을 지정받고자 하는데 어떻게 해야 하나요?</td>\n",
       "      <td>자동차검사장을 지정받고자 하는데 어떻게 해야 하나요  자동차종합정비업체 소형자동차정...</td>\n",
       "      <td>2898293</td>\n",
       "      <td>0.025900</td>\n",
       "    </tr>\n",
       "    <tr>\n",
       "      <th>2644</th>\n",
       "      <td>1</td>\n",
       "      <td>환경</td>\n",
       "      <td>폐기대상 문서의 폐기는 어떻게 하나요?</td>\n",
       "      <td>폐기대상 문서의 폐기는 어떻게 하나요보존기간이 경과된 문서의 폐기는 정보공개정책과로...</td>\n",
       "      <td>19431143</td>\n",
       "      <td>0.029990</td>\n",
       "    </tr>\n",
       "  </tbody>\n",
       "</table>\n",
       "<p>2645 rows × 6 columns</p>\n",
       "</div>"
      ],
      "text/plain": [
       "        번호      분류                                            제목  \\\n",
       "0     2645      복지                                   아빠 육아휴직 장려금   \n",
       "1     2644      경제                             [서울산업진흥원] 서울메이드란?   \n",
       "2     2643      환경                                     (강북구) 정비중   \n",
       "3     2642      복지                   광진맘택시 운영(임산부,영아 양육가정 전용 택시)   \n",
       "4     2641      복지                                마포 뇌병변장애인 비전센터   \n",
       "...    ...     ...                                           ...   \n",
       "2640     5  주택도시계획  이미 지정된 재정비촉진지구의 인접지를 추가 확장하고 싶은데 어떻게 해야 하나요?   \n",
       "2641     4      환경                                  수돗물의 톤당 원가는?   \n",
       "2642     3      복지            출산휴가후 집근처에 안심하고 맡길 수 있는 어린이집이 있는지?   \n",
       "2643     2      교통                 자동차검사장을 지정받고자 하는데 어떻게 해야 하나요?   \n",
       "2644     1      환경                         폐기대상 문서의 폐기는 어떻게 하나요?   \n",
       "\n",
       "                                                     내용      내용번호       유사도  \n",
       "0     아빠 육아휴직 장려금   업무개요  남성근로자의 육아휴직을 장려하고 양육에 따른 경...  23522464  0.066423  \n",
       "1     서울산업진흥원 서울메이드란 서울의 감성을 담은 다양하고 새로운 경험을 제공하기 위해...  23194045  0.001227  \n",
       "2     강북구 정비중  업무개요  투명 폐트병을 교환보상하므로 수거율을 높이고 폐기물을 감...  23032485  0.004907  \n",
       "3     광진맘택시 운영임산부영아 양육가정 전용 택시  업무개요 교통약자인 임산부와 영아가정...  22904492  0.029660  \n",
       "4     마포 뇌병변장애인 비전센터 마포뇌병변장애인 비전센터 운영   구분 내용  목적  학...  22477798  0.015529  \n",
       "...                                                 ...       ...       ...  \n",
       "2640  이미 지정된 재정비촉진지구의 인접지를 추가 확장하고 싶은데 어떻게 해야 하나요 관할...   2894353  0.030988  \n",
       "2641  수돗물의 톤당 원가는우리시 년 톤당 원가는 원 입니다 우리시 년 톤당 요금은 원 입니다   19353862  0.000000  \n",
       "2642  출산휴가후 집근처에 안심하고 맡길 수 있는 어린이집이 있는지   서울시 육아종합지원...  19699584  0.010857  \n",
       "2643  자동차검사장을 지정받고자 하는데 어떻게 해야 하나요  자동차종합정비업체 소형자동차정...   2898293  0.025900  \n",
       "2644  폐기대상 문서의 폐기는 어떻게 하나요보존기간이 경과된 문서의 폐기는 정보공개정책과로...  19431143  0.029990  \n",
       "\n",
       "[2645 rows x 6 columns]"
      ]
     },
     "execution_count": 10,
     "metadata": {},
     "output_type": "execute_result"
    }
   ],
   "source": [
    "TDM_s120"
   ]
  },
  {
   "cell_type": "code",
   "execution_count": 11,
   "id": "942cc335-dd85-4d11-93e0-83c365e47b2c",
   "metadata": {},
   "outputs": [],
   "source": [
    "TDM_s120_sorted = TDM_s120.sort_values(by='유사도', ascending=False)\n",
    "top_6 = TDM_s120_sorted.head(6)"
   ]
  },
  {
   "cell_type": "code",
   "execution_count": 12,
   "id": "45e85276-5f0b-436b-8173-8b31a403e122",
   "metadata": {},
   "outputs": [
    {
     "data": {
      "text/html": [
       "<div>\n",
       "<style scoped>\n",
       "    .dataframe tbody tr th:only-of-type {\n",
       "        vertical-align: middle;\n",
       "    }\n",
       "\n",
       "    .dataframe tbody tr th {\n",
       "        vertical-align: top;\n",
       "    }\n",
       "\n",
       "    .dataframe thead th {\n",
       "        text-align: right;\n",
       "    }\n",
       "</style>\n",
       "<table border=\"1\" class=\"dataframe\">\n",
       "  <thead>\n",
       "    <tr style=\"text-align: right;\">\n",
       "      <th></th>\n",
       "      <th>번호</th>\n",
       "      <th>분류</th>\n",
       "      <th>제목</th>\n",
       "      <th>내용</th>\n",
       "      <th>내용번호</th>\n",
       "      <th>유사도</th>\n",
       "    </tr>\n",
       "  </thead>\n",
       "  <tbody>\n",
       "    <tr>\n",
       "      <th>1772</th>\n",
       "      <td>873</td>\n",
       "      <td>경제</td>\n",
       "      <td>도시계획시설부지 재결신청 이후 진행단계는 어떤 과정을 거칩니까?</td>\n",
       "      <td>도시계획시설부지 재결신청 이후 진행단계는 어떤 과정을 거칩니까재결신청 이후 재결신청...</td>\n",
       "      <td>2897109</td>\n",
       "      <td>1.000000</td>\n",
       "    </tr>\n",
       "    <tr>\n",
       "      <th>1775</th>\n",
       "      <td>870</td>\n",
       "      <td>경제</td>\n",
       "      <td>도시계획시설 재결신청은 어떻게 합니까?</td>\n",
       "      <td>도시계획시설 재결신청은 어떻게 합니까재결신청은 소유자 및 사업시행자가 모두 할 수 ...</td>\n",
       "      <td>2897108</td>\n",
       "      <td>0.752630</td>\n",
       "    </tr>\n",
       "    <tr>\n",
       "      <th>1771</th>\n",
       "      <td>874</td>\n",
       "      <td>경제</td>\n",
       "      <td>도시계획시설부지의 재결과정에서는 의견을 제출할 수 없는지요?</td>\n",
       "      <td>도시계획시설부지의 재결과정에서는 의견을 제출할 수 없는지요재결신청 이후 신청서 및 ...</td>\n",
       "      <td>2897110</td>\n",
       "      <td>0.613373</td>\n",
       "    </tr>\n",
       "    <tr>\n",
       "      <th>1780</th>\n",
       "      <td>865</td>\n",
       "      <td>경제</td>\n",
       "      <td>도시계획시설에 편입된 보상물건의 재결신청 청구는 몇일 이내에 해야 하나요?</td>\n",
       "      <td>도시계획시설에 편입된 보상물건의 재결신청 청구는 몇일 이내에 해야 하나요사업인정 고...</td>\n",
       "      <td>2897106</td>\n",
       "      <td>0.569272</td>\n",
       "    </tr>\n",
       "    <tr>\n",
       "      <th>1768</th>\n",
       "      <td>877</td>\n",
       "      <td>경제</td>\n",
       "      <td>도시계획시설부지에 포함된 건물보상금액의 불만입니다.</td>\n",
       "      <td>도시계획시설부지에 포함된 건물보상금액의 불만입니다사업시행자로 하여금 재결신청을 청구...</td>\n",
       "      <td>2897114</td>\n",
       "      <td>0.540980</td>\n",
       "    </tr>\n",
       "    <tr>\n",
       "      <th>1767</th>\n",
       "      <td>878</td>\n",
       "      <td>경제</td>\n",
       "      <td>도시계획시설 부지의 이의재결이란 무엇입니까?</td>\n",
       "      <td>도시계획시설 부지의 이의재결이란 무엇입니까수용재결에 대한 이의가 있는 경우 중앙토지...</td>\n",
       "      <td>2897115</td>\n",
       "      <td>0.494657</td>\n",
       "    </tr>\n",
       "  </tbody>\n",
       "</table>\n",
       "</div>"
      ],
      "text/plain": [
       "       번호  분류                                         제목  \\\n",
       "1772  873  경제        도시계획시설부지 재결신청 이후 진행단계는 어떤 과정을 거칩니까?   \n",
       "1775  870  경제                      도시계획시설 재결신청은 어떻게 합니까?   \n",
       "1771  874  경제          도시계획시설부지의 재결과정에서는 의견을 제출할 수 없는지요?   \n",
       "1780  865  경제  도시계획시설에 편입된 보상물건의 재결신청 청구는 몇일 이내에 해야 하나요?   \n",
       "1768  877  경제               도시계획시설부지에 포함된 건물보상금액의 불만입니다.   \n",
       "1767  878  경제                   도시계획시설 부지의 이의재결이란 무엇입니까?   \n",
       "\n",
       "                                                     내용     내용번호       유사도  \n",
       "1772  도시계획시설부지 재결신청 이후 진행단계는 어떤 과정을 거칩니까재결신청 이후 재결신청...  2897109  1.000000  \n",
       "1775  도시계획시설 재결신청은 어떻게 합니까재결신청은 소유자 및 사업시행자가 모두 할 수 ...  2897108  0.752630  \n",
       "1771  도시계획시설부지의 재결과정에서는 의견을 제출할 수 없는지요재결신청 이후 신청서 및 ...  2897110  0.613373  \n",
       "1780  도시계획시설에 편입된 보상물건의 재결신청 청구는 몇일 이내에 해야 하나요사업인정 고...  2897106  0.569272  \n",
       "1768  도시계획시설부지에 포함된 건물보상금액의 불만입니다사업시행자로 하여금 재결신청을 청구...  2897114  0.540980  \n",
       "1767  도시계획시설 부지의 이의재결이란 무엇입니까수용재결에 대한 이의가 있는 경우 중앙토지...  2897115  0.494657  "
      ]
     },
     "execution_count": 12,
     "metadata": {},
     "output_type": "execute_result"
    }
   ],
   "source": [
    "top_6"
   ]
  },
  {
   "cell_type": "code",
   "execution_count": null,
   "id": "11bd7bcc-57cc-45ba-b97c-b7003ed25de3",
   "metadata": {},
   "outputs": [],
   "source": []
  }
 ],
 "metadata": {
  "kernelspec": {
   "display_name": "Python 3 (ipykernel)",
   "language": "python",
   "name": "python3"
  },
  "language_info": {
   "codemirror_mode": {
    "name": "ipython",
    "version": 3
   },
   "file_extension": ".py",
   "mimetype": "text/x-python",
   "name": "python",
   "nbconvert_exporter": "python",
   "pygments_lexer": "ipython3",
   "version": "3.11.8"
  }
 },
 "nbformat": 4,
 "nbformat_minor": 5
}
