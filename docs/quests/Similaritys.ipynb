{
 "cells": [
  {
   "cell_type": "code",
   "execution_count": 1,
   "id": "86e2dfe8-c17d-4d59-b40c-f7db0ec35b9d",
   "metadata": {},
   "outputs": [],
   "source": [
    "sentences = [\n",
    "    \"빨간 사과가 나무에 많이 열리고 있습니다.\",\n",
    "    \"빨간 사과가 나무에서 많이 열렸어요.\",\n",
    "    \"오늘은 날씨가 정말 좋아요.\",\n",
    "    \"오늘은 날씨가 매우 좋네요.\",\n",
    "    \"내일은 축구 경기가 있는 날입니다.\",\n",
    "    \"내일은 축구 경기를 감상할 예정입니다.\",\n",
    "    \"한국의 전통 문화를 체험해 보는 것은 정말 멋진 일이죠.\",\n",
    "    \"한국의 전통 문화를 체험하는 것은 정말 멋진 경험이에요.\",\n",
    "    \"이 옷은 저에게 잘 어울릴 것 같아요.\",\n",
    "    \"이 옷은 나에게 잘 어울릴 것 같습니다.\",\n",
    "    \"좋은 책을 읽는 것은 항상 나를 기쁘게 만듭니다.\",\n",
    "    \"좋은 책을 읽는 것은 나를 기쁘게 만듭니다.\",\n",
    "    \"오늘은 친구들과 함께 맛있는 저녁 식사를 즐길 예정입니다.\",\n",
    "    \"오늘 저녁에 친구들과 함께 맛있는 식사를 즐길 예정이에요.\",\n",
    "    \"새로운 프로젝트에 대해 생각해 보는 것은 항상 흥미로운 일입니다.\",\n",
    "    \"새로운 프로젝트에 대해 고민하는 것은 항상 흥미로운 일이에요.\",\n",
    "    \"여행을 가는 것은 새로운 경험을 쌓는 좋은 방법입니다.\",\n",
    "    \"여행을 가는 것은 새로운 경험을 쌓는 좋은 기회입니다.\",\n",
    "    \"웃음은 건강에 좋은 영향을 미칩니다.\",\n",
    "    \"웃음은 건강에 좋은 영향을 줍니다.\"\n",
    "]"
   ]
  },
  {
   "cell_type": "code",
   "execution_count": 2,
   "id": "8c6fcfb8-b325-47cb-957c-a30beecac2a7",
   "metadata": {},
   "outputs": [
    {
     "data": {
      "text/plain": [
       "['빨간 사과가 나무에 많이 열리고 있습니다.',\n",
       " '빨간 사과가 나무에서 많이 열렸어요.',\n",
       " '오늘은 날씨가 정말 좋아요.',\n",
       " '오늘은 날씨가 매우 좋네요.',\n",
       " '내일은 축구 경기가 있는 날입니다.',\n",
       " '내일은 축구 경기를 감상할 예정입니다.',\n",
       " '한국의 전통 문화를 체험해 보는 것은 정말 멋진 일이죠.',\n",
       " '한국의 전통 문화를 체험하는 것은 정말 멋진 경험이에요.',\n",
       " '이 옷은 저에게 잘 어울릴 것 같아요.',\n",
       " '이 옷은 나에게 잘 어울릴 것 같습니다.',\n",
       " '좋은 책을 읽는 것은 항상 나를 기쁘게 만듭니다.',\n",
       " '좋은 책을 읽는 것은 나를 기쁘게 만듭니다.',\n",
       " '오늘은 친구들과 함께 맛있는 저녁 식사를 즐길 예정입니다.',\n",
       " '오늘 저녁에 친구들과 함께 맛있는 식사를 즐길 예정이에요.',\n",
       " '새로운 프로젝트에 대해 생각해 보는 것은 항상 흥미로운 일입니다.',\n",
       " '새로운 프로젝트에 대해 고민하는 것은 항상 흥미로운 일이에요.',\n",
       " '여행을 가는 것은 새로운 경험을 쌓는 좋은 방법입니다.',\n",
       " '여행을 가는 것은 새로운 경험을 쌓는 좋은 기회입니다.',\n",
       " '웃음은 건강에 좋은 영향을 미칩니다.',\n",
       " '웃음은 건강에 좋은 영향을 줍니다.']"
      ]
     },
     "execution_count": 2,
     "metadata": {},
     "output_type": "execute_result"
    }
   ],
   "source": [
    "sentences"
   ]
  },
  {
   "cell_type": "markdown",
   "id": "0639f603-4708-4b1a-a562-ae736ded0d34",
   "metadata": {},
   "source": [
    "## 자연어 처리"
   ]
  },
  {
   "cell_type": "code",
   "execution_count": 10,
   "id": "493e3e0b-70ec-466f-a8a1-2250a5f53eec",
   "metadata": {},
   "outputs": [],
   "source": [
    "stopwords = []"
   ]
  },
  {
   "cell_type": "code",
   "execution_count": 11,
   "id": "8694bb4e-cece-4b93-bf6b-132b5434adeb",
   "metadata": {},
   "outputs": [],
   "source": [
    "# 토크나이징 함수 정의\n",
    "from konlpy.tag import Okt\n",
    "okt = Okt()\n",
    "\n",
    "def tokenizer(raw, pos=[\"Noun\",\"Alpha\",\"Verb\",\"Number\"], stopword=stopwords):\n",
    "    return [\n",
    "        word for word, tag in okt.pos(\n",
    "            raw, \n",
    "            stem=True    # stemming 바뀌나->바뀌다\n",
    "            )\n",
    "            if len(word) > 1 and tag in pos and word not in stopword\n",
    "\n",
    "    ]"
   ]
  },
  {
   "cell_type": "code",
   "execution_count": 13,
   "id": "abcc2f1a-9e01-4a64-a717-d282c6c33880",
   "metadata": {},
   "outputs": [],
   "source": [
    "# tokenizing\n",
    "from sklearn.feature_extraction.text import TfidfVectorizer\n",
    "tfidfvectorizer = TfidfVectorizer(tokenizer=tokenizer)"
   ]
  },
  {
   "cell_type": "code",
   "execution_count": 15,
   "id": "cf5a2dc8-85e6-4b38-95de-55f247bdfe82",
   "metadata": {},
   "outputs": [
    {
     "data": {
      "text/plain": [
       "array([[0.        , 0.        , 0.        , 0.        , 0.        ,\n",
       "        0.        , 0.        , 0.        , 0.57735027, 0.        ,\n",
       "        0.        , 0.        , 0.        , 0.        , 0.        ,\n",
       "        0.        , 0.        , 0.57735027, 0.        , 0.        ,\n",
       "        0.        , 0.        , 0.        , 0.57735027, 0.        ,\n",
       "        0.        , 0.        , 0.        , 0.        , 0.        ,\n",
       "        0.        , 0.        , 0.        , 0.        , 0.        ,\n",
       "        0.        , 0.        , 0.        , 0.        , 0.        ,\n",
       "        0.        , 0.        , 0.        ],\n",
       "       [0.        , 0.        , 0.        , 0.        , 0.        ,\n",
       "        0.        , 0.        , 0.        , 0.57735027, 0.        ,\n",
       "        0.        , 0.        , 0.        , 0.        , 0.        ,\n",
       "        0.        , 0.        , 0.57735027, 0.        , 0.        ,\n",
       "        0.        , 0.        , 0.        , 0.57735027, 0.        ,\n",
       "        0.        , 0.        , 0.        , 0.        , 0.        ,\n",
       "        0.        , 0.        , 0.        , 0.        , 0.        ,\n",
       "        0.        , 0.        , 0.        , 0.        , 0.        ,\n",
       "        0.        , 0.        , 0.        ]])"
      ]
     },
     "execution_count": 15,
     "metadata": {},
     "output_type": "execute_result"
    }
   ],
   "source": [
    "features = tfidfvectorizer.fit_transform(sentences)\n",
    "features.toarray()[:2]"
   ]
  },
  {
   "cell_type": "markdown",
   "id": "310862a9-bfce-4cd0-8e8b-47ecf4dd8946",
   "metadata": {},
   "source": [
    "## 유사도 확인"
   ]
  },
  {
   "cell_type": "code",
   "execution_count": 16,
   "id": "b107e6cb-fc2d-4288-bd50-b70714c71718",
   "metadata": {},
   "outputs": [],
   "source": [
    "from sklearn.metrics.pairwise import cosine_similarity"
   ]
  },
  {
   "cell_type": "code",
   "execution_count": 17,
   "id": "8f644970-a042-4fca-9425-d547800b81e2",
   "metadata": {},
   "outputs": [
    {
     "data": {
      "text/plain": [
       "array([[1., 1., 0., 0., 0., 0., 0., 0., 0., 0., 0., 0., 0., 0., 0., 0.,\n",
       "        0., 0., 0., 0.]])"
      ]
     },
     "execution_count": 17,
     "metadata": {},
     "output_type": "execute_result"
    }
   ],
   "source": [
    "result_list = cosine_similarity(features.toarray()[:1], features.toarray())\n",
    "result_list"
   ]
  },
  {
   "cell_type": "markdown",
   "id": "91e7ceed-464d-47d8-a372-b836028f7769",
   "metadata": {},
   "source": [
    "## dataframe 작성 필요"
   ]
  },
  {
   "cell_type": "code",
   "execution_count": 20,
   "id": "d1029d26-3c17-4f37-afc2-aa46ef1bf65c",
   "metadata": {},
   "outputs": [
    {
     "data": {
      "text/html": [
       "<div>\n",
       "<style scoped>\n",
       "    .dataframe tbody tr th:only-of-type {\n",
       "        vertical-align: middle;\n",
       "    }\n",
       "\n",
       "    .dataframe tbody tr th {\n",
       "        vertical-align: top;\n",
       "    }\n",
       "\n",
       "    .dataframe thead th {\n",
       "        text-align: right;\n",
       "    }\n",
       "</style>\n",
       "<table border=\"1\" class=\"dataframe\">\n",
       "  <thead>\n",
       "    <tr style=\"text-align: right;\">\n",
       "      <th></th>\n",
       "      <th>번호</th>\n",
       "      <th>분류</th>\n",
       "      <th>제목</th>\n",
       "      <th>내용</th>\n",
       "      <th>내용번호</th>\n",
       "    </tr>\n",
       "  </thead>\n",
       "  <tbody>\n",
       "    <tr>\n",
       "      <th>0</th>\n",
       "      <td>2645</td>\n",
       "      <td>복지</td>\n",
       "      <td>아빠 육아휴직 장려금</td>\n",
       "      <td>아빠 육아휴직 장려금   업무개요  남성근로자의 육아휴직을 장려하고 양육에 따른 경...</td>\n",
       "      <td>23522464</td>\n",
       "    </tr>\n",
       "    <tr>\n",
       "      <th>1</th>\n",
       "      <td>2644</td>\n",
       "      <td>경제</td>\n",
       "      <td>[서울산업진흥원] 서울메이드란?</td>\n",
       "      <td>서울산업진흥원 서울메이드란 서울의 감성을 담은 다양하고 새로운 경험을 제공하기 위해...</td>\n",
       "      <td>23194045</td>\n",
       "    </tr>\n",
       "    <tr>\n",
       "      <th>2</th>\n",
       "      <td>2643</td>\n",
       "      <td>환경</td>\n",
       "      <td>(강북구) 정비중</td>\n",
       "      <td>강북구 정비중  업무개요  투명 폐트병을 교환보상하므로 수거율을 높이고 폐기물을 감...</td>\n",
       "      <td>23032485</td>\n",
       "    </tr>\n",
       "  </tbody>\n",
       "</table>\n",
       "</div>"
      ],
      "text/plain": [
       "     번호  분류                 제목  \\\n",
       "0  2645  복지        아빠 육아휴직 장려금   \n",
       "1  2644  경제  [서울산업진흥원] 서울메이드란?   \n",
       "2  2643  환경          (강북구) 정비중   \n",
       "\n",
       "                                                  내용      내용번호  \n",
       "0  아빠 육아휴직 장려금   업무개요  남성근로자의 육아휴직을 장려하고 양육에 따른 경...  23522464  \n",
       "1  서울산업진흥원 서울메이드란 서울의 감성을 담은 다양하고 새로운 경험을 제공하기 위해...  23194045  \n",
       "2  강북구 정비중  업무개요  투명 폐트병을 교환보상하므로 수거율을 높이고 폐기물을 감...  23032485  "
      ]
     },
     "execution_count": 20,
     "metadata": {},
     "output_type": "execute_result"
    }
   ],
   "source": [
    "import pandas as pd\n",
    "pd.read_csv(\"https://bit.ly/seoul-120-text-csv\")[:3]"
   ]
  },
  {
   "cell_type": "code",
   "execution_count": null,
   "id": "78e95586-dda2-4355-8edf-0685b353f66b",
   "metadata": {},
   "outputs": [],
   "source": []
  }
 ],
 "metadata": {
  "kernelspec": {
   "display_name": "Python 3 (ipykernel)",
   "language": "python",
   "name": "python3"
  },
  "language_info": {
   "codemirror_mode": {
    "name": "ipython",
    "version": 3
   },
   "file_extension": ".py",
   "mimetype": "text/x-python",
   "name": "python",
   "nbconvert_exporter": "python",
   "pygments_lexer": "ipython3",
   "version": "3.11.8"
  }
 },
 "nbformat": 4,
 "nbformat_minor": 5
}
